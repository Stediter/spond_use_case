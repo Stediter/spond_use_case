{
 "cells": [
  {
   "cell_type": "markdown",
   "metadata": {
    "application/vnd.databricks.v1+cell": {
     "cellMetadata": {},
     "inputWidgets": {},
     "nuid": "26d4cab9-40c2-4b55-b8c2-6e211213474d",
     "showTitle": false,
     "tableResultSettingsMap": {},
     "title": ""
    }
   },
   "source": [
    "# Notes on gold layer DDLs\n",
    "\n",
    "With the SCD2 implementation for Events and Membership table; I would implement detailed views (or materialized views depending on performance requirements) with a deep details on the last solar month/rolling month/both, plus a set of tables (\"historic KPI\") containing a slightly more general kind of KPIs, containing aggregation on the memberships_id, so that anonimity in the long term is guaranteed without losing the ability to investigate historical trends.\n",
    "\n"
   ]
  }
 ],
 "metadata": {
  "application/vnd.databricks.v1+notebook": {
   "computePreferences": null,
   "dashboards": [],
   "environmentMetadata": {
    "base_environment": "",
    "environment_version": "2"
   },
   "inputWidgetPreferences": null,
   "language": "python",
   "notebookMetadata": {
    "pythonIndentUnit": 4
   },
   "notebookName": "gold_ddl",
   "widgets": {}
  },
  "language_info": {
   "name": "python"
  }
 },
 "nbformat": 4,
 "nbformat_minor": 0
}
