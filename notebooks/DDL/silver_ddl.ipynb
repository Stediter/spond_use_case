{
 "cells": [
  {
   "cell_type": "markdown",
   "metadata": {
    "application/vnd.databricks.v1+cell": {
     "cellMetadata": {},
     "inputWidgets": {},
     "nuid": "dc110f76-4eaa-4e49-9c6e-2adc6f9d8165",
     "showTitle": false,
     "tableResultSettingsMap": {},
     "title": ""
    }
   },
   "source": [
    "# Silver DDL\n",
    "\n",
    "This notebook contains the schema for the 5 silver tables; the 4 from the original model provided, plus one containing data quality issues identified during bronze--->silver transformation (keys missing or if foreing not referring to values actually in the related table)\n",
    "\n",
    "\n",
    "Membership table has been converted to SCD2 format, so as a further improvement it would be easier to implement clean-up/vacuum operation on no longer active users: this could benefit also the other tables."
   ]
  },
  {
   "cell_type": "code",
   "execution_count": 0,
   "metadata": {
    "application/vnd.databricks.v1+cell": {
     "cellMetadata": {},
     "inputWidgets": {},
     "nuid": "e724f2ca-9249-4cb7-b841-109fbb3a3556",
     "showTitle": false,
     "tableResultSettingsMap": {},
     "title": ""
    }
   },
   "outputs": [],
   "source": [
    "dbutils.widgets.text(\"env\", \"dev\")"
   ]
  },
  {
   "cell_type": "code",
   "execution_count": 0,
   "metadata": {
    "application/vnd.databricks.v1+cell": {
     "cellMetadata": {},
     "inputWidgets": {},
     "nuid": "c97c21ec-d405-48b2-ac8c-c93ac1386b78",
     "showTitle": false,
     "tableResultSettingsMap": {},
     "title": ""
    }
   },
   "outputs": [],
   "source": [
    "environment = dbutils.widgets.get('env')\n",
    "catalog_name = \"use_case_\" + environment\n",
    "schema_name = \"silver\""
   ]
  },
  {
   "cell_type": "code",
   "execution_count": 0,
   "metadata": {
    "application/vnd.databricks.v1+cell": {
     "cellMetadata": {},
     "inputWidgets": {},
     "nuid": "6395a216-f159-4fca-a2f4-64e8a49e0a8a",
     "showTitle": false,
     "tableResultSettingsMap": {},
     "title": ""
    }
   },
   "outputs": [],
   "source": [
    "spark.sql(f\"CREATE SCHEMA IF NOT EXISTS {catalog_name}.{schema_name}\")"
   ]
  },
  {
   "cell_type": "code",
   "execution_count": 0,
   "metadata": {
    "application/vnd.databricks.v1+cell": {
     "cellMetadata": {
      "byteLimit": 2048000,
      "rowLimit": 10000
     },
     "inputWidgets": {},
     "nuid": "a59a3044-3c7f-496a-8d09-fb574195e54a",
     "showTitle": false,
     "tableResultSettingsMap": {},
     "title": ""
    }
   },
   "outputs": [],
   "source": [
    "spark.sql(f\"\"\"CREATE TABLE hive_metastore.default.teams_silver (\n",
    "  team_id STRING,\n",
    "  team_activity STRING,\n",
    "  country_code STRING,\n",
    "  created_at TIMESTAMP,\n",
    "  created_at_datekey LONG,\n",
    "  hash_key STRING,\n",
    "  system_created_at TIMESTAMP,\n",
    "  system_updated_at TIMESTAMP)\n",
    "USING delta\n",
    "TBLPROPERTIES (\n",
    "  'delta.minReaderVersion' = '1',\n",
    "  'delta.minWriterVersion' = '2')\n",
    "  \"\"\")"
   ]
  },
  {
   "cell_type": "code",
   "execution_count": 0,
   "metadata": {
    "application/vnd.databricks.v1+cell": {
     "cellMetadata": {
      "byteLimit": 2048000,
      "rowLimit": 10000
     },
     "inputWidgets": {},
     "nuid": "fe5e631d-1db3-4271-840f-32b6b8d595d9",
     "showTitle": false,
     "tableResultSettingsMap": {},
     "title": ""
    }
   },
   "outputs": [],
   "source": [
    "spark.sql(f\"\"\"CREATE TABLE IF NOT EXISTS hive_metastore.default.events_silver (\n",
    "  event_id STRING,\n",
    "  team_id STRING,\n",
    "  event_start TIMESTAMP,\n",
    "  event_end TIMESTAMP,\n",
    "  latitude DOUBLE,\n",
    "  longitude DOUBLE,\n",
    "  created_at TIMESTAMP,\n",
    "  county STRING,\n",
    "  state STRING,\n",
    "  hash_key STRING,\n",
    "  system_created_at TIMESTAMP,\n",
    "  system_updated_at TIMESTAMP)\n",
    "USING delta\n",
    "TBLPROPERTIES (\n",
    "  'delta.minReaderVersion' = '1',\n",
    "  'delta.minWriterVersion' = '2')\n",
    "  \"\"\")"
   ]
  }
 ],
 "metadata": {
  "application/vnd.databricks.v1+notebook": {
   "computePreferences": null,
   "dashboards": [],
   "environmentMetadata": {
    "base_environment": "",
    "environment_version": "2"
   },
   "inputWidgetPreferences": null,
   "language": "python",
   "notebookMetadata": {
    "pythonIndentUnit": 4
   },
   "notebookName": "silver_ddl",
   "widgets": {}
  },
  "language_info": {
   "name": "python"
  }
 },
 "nbformat": 4,
 "nbformat_minor": 0
}
