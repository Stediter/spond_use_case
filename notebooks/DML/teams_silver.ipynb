{
 "cells": [
  {
   "cell_type": "markdown",
   "metadata": {
    "application/vnd.databricks.v1+cell": {
     "cellMetadata": {
      "byteLimit": 2048000,
      "rowLimit": 10000
     },
     "inputWidgets": {},
     "nuid": "cf50b468-eb0b-4f35-9380-41f013ffa72e",
     "showTitle": false,
     "tableResultSettingsMap": {},
     "title": ""
    }
   },
   "source": [
    "# Teams silver\n",
    "\n",
    "Checks to be performed:\n",
    "- Primary key is unique\n",
    "- Time information can be correctly converted to Timestamp type\n",
    "\n",
    "Enrichment: \n",
    "- Date information extracted from created_at timestamp.\n",
    "\n",
    "Data is to be stored in SCD1 table; the assumption here (simplicistic, but just to give a sample of data writing), is that if a line gets updated in the source database it will come with a new \"created_at\" timestamp.\n",
    "If that is not the case, the silver notebooks still show two different update methods possible for batch data, I implemented several others (also for streaming), but I do not have the knowlegde on how this data evolves in the source to make further assumptions.\n",
    "\n",
    "N.B. In UC primary and foreign keys can also be enforced directly on the tables, but then the write operation fails or succeed altogether, with this approach it would be possible to identify single rows that dont satisfy the conditions; the natural evolution of this could be a DLT implementation. As mentioned in the data quality module, the next improvement for this would be using DBX programmaticaly."
   ]
  },
  {
   "cell_type": "code",
   "execution_count": 0,
   "metadata": {
    "application/vnd.databricks.v1+cell": {
     "cellMetadata": {
      "byteLimit": 2048000,
      "rowLimit": 10000
     },
     "inputWidgets": {},
     "nuid": "358aa339-a29e-4d09-93db-c1aadc45f686",
     "showTitle": false,
     "tableResultSettingsMap": {},
     "title": ""
    }
   },
   "outputs": [],
   "source": [
    "from modules.data_quality import (check_data_quality_id,\n",
    "                                  check_data_quality_timestamps,\n",
    "                                  check_data_quality_teams_table)\n",
    "from modules.enrichment import create_integer_datekeys\n",
    "from modules.write import (add_scd1_columns,\n",
    "                           identify_new_and_updated_data,\n",
    "                           merge_df_to_table)"
   ]
  },
  {
   "cell_type": "code",
   "execution_count": 0,
   "metadata": {
    "application/vnd.databricks.v1+cell": {
     "cellMetadata": {
      "byteLimit": 2048000,
      "rowLimit": 10000
     },
     "inputWidgets": {},
     "nuid": "1eba68c8-80d8-4d9c-bcb0-14be7ab0a877",
     "showTitle": false,
     "tableResultSettingsMap": {},
     "title": ""
    }
   },
   "outputs": [],
   "source": [
    "source_catalog = \"hive_metastore\"\n",
    "source_schema = \"default\"\n",
    "source_table_name = \"teams\"\n",
    "\n",
    "target_catalog = \"hive_metastore\"\n",
    "target_schema = \"default\"\n",
    "target_table_name = \"teams_silver\"\n",
    "\n",
    "source_table_reference = source_catalog + \".\" + source_schema + \".\" +  source_table_name\n",
    "target_table_reference = target_catalog + \".\" + target_schema + \".\" + target_table_name"
   ]
  },
  {
   "cell_type": "code",
   "execution_count": 0,
   "metadata": {
    "application/vnd.databricks.v1+cell": {
     "cellMetadata": {
      "byteLimit": 2048000,
      "rowLimit": 10000
     },
     "inputWidgets": {},
     "nuid": "a82262cf-2714-4708-940f-47b25c24bbd5",
     "showTitle": false,
     "tableResultSettingsMap": {},
     "title": ""
    }
   },
   "outputs": [],
   "source": [
    "teams_df = spark.table(source_table_reference)\n",
    "target_table = spark.table(target_table_reference)"
   ]
  },
  {
   "cell_type": "code",
   "execution_count": 0,
   "metadata": {
    "application/vnd.databricks.v1+cell": {
     "cellMetadata": {
      "byteLimit": 2048000,
      "rowLimit": 10000
     },
     "inputWidgets": {},
     "nuid": "5ed42aff-c604-4386-a0b3-c400725e6915",
     "showTitle": false,
     "tableResultSettingsMap": {},
     "title": ""
    }
   },
   "outputs": [],
   "source": [
    "teams_df, bad_formed_df = check_data_quality_id(teams_df,\"team_id\")"
   ]
  },
  {
   "cell_type": "code",
   "execution_count": 0,
   "metadata": {
    "application/vnd.databricks.v1+cell": {
     "cellMetadata": {
      "byteLimit": 2048000,
      "rowLimit": 10000
     },
     "inputWidgets": {},
     "nuid": "e9a00f6a-967f-45e9-98c8-ef243fc0efa6",
     "showTitle": false,
     "tableResultSettingsMap": {},
     "title": ""
    }
   },
   "outputs": [],
   "source": [
    "teams_df, bad_formed_df = check_data_quality_timestamps(teams_df,[\"created_at\"],\"team_id\")"
   ]
  },
  {
   "cell_type": "code",
   "execution_count": 0,
   "metadata": {
    "application/vnd.databricks.v1+cell": {
     "cellMetadata": {
      "byteLimit": 2048000,
      "rowLimit": 10000
     },
     "inputWidgets": {},
     "nuid": "bcc70e08-d7de-4c9f-8238-41eb10ef549f",
     "showTitle": false,
     "tableResultSettingsMap": {},
     "title": ""
    }
   },
   "outputs": [],
   "source": [
    "teams_df, bad_formed_df = check_data_quality_teams_table(teams_df)"
   ]
  },
  {
   "cell_type": "code",
   "execution_count": 0,
   "metadata": {
    "application/vnd.databricks.v1+cell": {
     "cellMetadata": {
      "byteLimit": 2048000,
      "rowLimit": 10000
     },
     "inputWidgets": {},
     "nuid": "db427e42-c7dd-47ab-8f61-35494d88a12c",
     "showTitle": false,
     "tableResultSettingsMap": {},
     "title": ""
    }
   },
   "outputs": [],
   "source": [
    "teams_df = create_integer_datekeys(teams_df,[\"created_at\"])"
   ]
  },
  {
   "cell_type": "code",
   "execution_count": 0,
   "metadata": {
    "application/vnd.databricks.v1+cell": {
     "cellMetadata": {
      "byteLimit": 2048000,
      "rowLimit": 10000
     },
     "inputWidgets": {},
     "nuid": "2621d771-920a-4cc9-a197-0d2edff6dd5a",
     "showTitle": false,
     "tableResultSettingsMap": {},
     "title": ""
    }
   },
   "outputs": [],
   "source": [
    "teams_df = add_scd1_columns(teams_df, \"created_at\")"
   ]
  },
  {
   "cell_type": "code",
   "execution_count": 0,
   "metadata": {
    "application/vnd.databricks.v1+cell": {
     "cellMetadata": {
      "byteLimit": 2048000,
      "rowLimit": 10000
     },
     "inputWidgets": {},
     "nuid": "02765d09-bc53-4412-af2c-2eeb90550a56",
     "showTitle": false,
     "tableResultSettingsMap": {},
     "title": ""
    }
   },
   "outputs": [],
   "source": [
    "teams_df = identify_new_and_updated_data(teams_df,target_table)"
   ]
  },
  {
   "cell_type": "code",
   "execution_count": 0,
   "metadata": {
    "application/vnd.databricks.v1+cell": {
     "cellMetadata": {
      "byteLimit": 2048000,
      "rowLimit": 10000
     },
     "inputWidgets": {},
     "nuid": "18193a2a-4ef3-481a-8f27-76f92a2a2cf1",
     "showTitle": false,
     "tableResultSettingsMap": {},
     "title": ""
    }
   },
   "outputs": [],
   "source": [
    "update_columns_list = teams_df.columns\n",
    "update_columns_list.remove(\"system_created_at\")\n",
    "key_columns_list = [\"team_id\"]\n",
    "\n",
    "merge_df_to_table(spark, teams_df, target_table_reference, update_columns_list, key_columns_list)"
   ]
  }
 ],
 "metadata": {
  "application/vnd.databricks.v1+notebook": {
   "computePreferences": null,
   "dashboards": [],
   "environmentMetadata": {
    "base_environment": "",
    "environment_version": "2"
   },
   "inputWidgetPreferences": null,
   "language": "python",
   "notebookMetadata": {
    "mostRecentlyExecutedCommandWithImplicitDF": {
     "commandId": 5740652117208461,
     "dataframes": [
      "_sqldf"
     ]
    },
    "pythonIndentUnit": 4
   },
   "notebookName": "teams_silver",
   "widgets": {}
  },
  "language_info": {
   "name": "python"
  }
 },
 "nbformat": 4,
 "nbformat_minor": 0
}
