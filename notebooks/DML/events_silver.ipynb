{
 "cells": [
  {
   "cell_type": "markdown",
   "metadata": {
    "application/vnd.databricks.v1+cell": {
     "cellMetadata": {
      "byteLimit": 2048000,
      "rowLimit": 10000
     },
     "inputWidgets": {},
     "nuid": "cf50b468-eb0b-4f35-9380-41f013ffa72e",
     "showTitle": false,
     "tableResultSettingsMap": {},
     "title": ""
    }
   },
   "source": [
    "# Events silver\n",
    "\n",
    "Checks to be performed:\n",
    "- Primary key is unique\n",
    "- Foreign key refers to existing team\n",
    "- Time information can be correctly converted to Timestamp type\n",
    "- Logic checks (start date is not after end data, coordinates are not half-inserted)\n",
    "\n",
    "Enrichment: \n",
    "- Date information extracted from start/end timestamp.\n",
    "- Place information extracted by latitude and longitude\n",
    "\n",
    "Data is to be stored in SCD2 table; the assumption here (simplicistic, but just to give a sample of data writing), is that if a line gets updated in the source database it a new copy of it will be created, so it is possible to keep full track of how and how many times an event has been updated.\n",
    "\n",
    "N.B. In UC primary and foreign keys can also be enforced directly on the tables, but then the write operation fails or succeed altogether, with this approach it would be possible to identify single rows that dont satisfy the conditions; the natural evolution of this could be a DLT implementation. As mentioned in the data quality module, the next improvement for this would be using DBX programmaticaly."
   ]
  },
  {
   "cell_type": "code",
   "execution_count": 0,
   "metadata": {
    "application/vnd.databricks.v1+cell": {
     "cellMetadata": {
      "byteLimit": 2048000,
      "rowLimit": 10000
     },
     "inputWidgets": {},
     "nuid": "980abdee-88ea-4f05-98c7-b66462753fb5",
     "showTitle": false,
     "tableResultSettingsMap": {},
     "title": ""
    }
   },
   "outputs": [],
   "source": [
    "pip install geopy"
   ]
  },
  {
   "cell_type": "code",
   "execution_count": 0,
   "metadata": {
    "application/vnd.databricks.v1+cell": {
     "cellMetadata": {
      "byteLimit": 2048000,
      "rowLimit": 10000
     },
     "inputWidgets": {},
     "nuid": "358aa339-a29e-4d09-93db-c1aadc45f686",
     "showTitle": false,
     "tableResultSettingsMap": {},
     "title": ""
    }
   },
   "outputs": [],
   "source": [
    "from modules.geo_info import enrich_geography_by_coordinates\n",
    "from modules.data_quality import (check_data_quality_id,\n",
    "                                  check_data_quality_foreign_keys,\n",
    "                                  check_data_quality_timestamps,\n",
    "                                  check_data_quality_events_table)\n",
    "from modules.enrichment  import create_integer_datekeys\n",
    "from modules.write import (add_scd2_columns,\n",
    "                           identify_lines_SCD2,\n",
    "                           deactivate_rows_SCD2,\n",
    "                           append_df_to_table)\n"
   ]
  },
  {
   "cell_type": "code",
   "execution_count": 0,
   "metadata": {
    "application/vnd.databricks.v1+cell": {
     "cellMetadata": {
      "byteLimit": 2048000,
      "rowLimit": 10000
     },
     "inputWidgets": {},
     "nuid": "305d776f-3e9d-4bcd-bba2-049dc16f2b41",
     "showTitle": false,
     "tableResultSettingsMap": {},
     "title": ""
    }
   },
   "outputs": [],
   "source": [
    "dbutils.widgets.text(\"env\", \"dev\")"
   ]
  },
  {
   "cell_type": "code",
   "execution_count": 0,
   "metadata": {
    "application/vnd.databricks.v1+cell": {
     "cellMetadata": {
      "byteLimit": 2048000,
      "rowLimit": 10000
     },
     "inputWidgets": {},
     "nuid": "d46f2d75-846e-4b24-8f78-0db5fea49a4c",
     "showTitle": false,
     "tableResultSettingsMap": {},
     "title": ""
    }
   },
   "outputs": [],
   "source": [
    "environment = dbutils.widgets.get('env')\n",
    "catalog = \"use_case_\" + environment\n",
    "source_schema = \"bronze_layer\"\n",
    "target_schema = \"silver_layer\"\n",
    "\n",
    "source_table = \"events\"\n",
    "target_table = \"events_refined\"\n",
    "teams_cross_ref_table = \"teams_refined\"\n",
    "\n",
    "source_table_reference = catalog + \".\" + source_schema + \".\" +  source_table\n",
    "target_table_reference = catalog + \".\" + target_schema + \".\" + target_table\n",
    "teams_cross_ref_table_reference = catalog + \".\" + target_schema + \".\" + teams_cross_ref_table"
   ]
  },
  {
   "cell_type": "code",
   "execution_count": 0,
   "metadata": {
    "application/vnd.databricks.v1+cell": {
     "cellMetadata": {
      "byteLimit": 2048000,
      "rowLimit": 10000
     },
     "inputWidgets": {},
     "nuid": "1eba68c8-80d8-4d9c-bcb0-14be7ab0a877",
     "showTitle": false,
     "tableResultSettingsMap": {},
     "title": ""
    }
   },
   "outputs": [],
   "source": [
    "# source_catalog = \"hive_metastore\"\n",
    "# source_schema = \"default\"\n",
    "# source_table_name = \"events\"\n",
    "\n",
    "# target_catalog = \"hive_metastore\"\n",
    "# target_schema = \"default\"\n",
    "# target_table_name = \"events_silver\"\n",
    "# cross_check_table_name = \"teams_silver\"\n",
    "\n",
    "# source_table_reference = source_catalog + \".\" + source_schema + \".\" +  source_table_name\n",
    "# target_table_reference = target_catalog + \".\" + target_schema + \".\" + target_table_name\n",
    "# teams_cross_ref_table_reference = target_catalog + \".\" + target_schema + \".\" + cross_check_table_name"
   ]
  },
  {
   "cell_type": "code",
   "execution_count": 0,
   "metadata": {
    "application/vnd.databricks.v1+cell": {
     "cellMetadata": {
      "byteLimit": 2048000,
      "rowLimit": 10000
     },
     "inputWidgets": {},
     "nuid": "a82262cf-2714-4708-940f-47b25c24bbd5",
     "showTitle": false,
     "tableResultSettingsMap": {},
     "title": ""
    }
   },
   "outputs": [],
   "source": [
    "events_df = spark.table(source_table_reference)\n",
    "teams_df = spark.table(teams_cross_ref_table_reference)\n",
    "target_table_df = spark.table(target_table_reference)"
   ]
  },
  {
   "cell_type": "code",
   "execution_count": 0,
   "metadata": {
    "application/vnd.databricks.v1+cell": {
     "cellMetadata": {
      "byteLimit": 2048000,
      "rowLimit": 10000
     },
     "inputWidgets": {},
     "nuid": "5ed42aff-c604-4386-a0b3-c400725e6915",
     "showTitle": false,
     "tableResultSettingsMap": {},
     "title": ""
    }
   },
   "outputs": [],
   "source": [
    "events_df, bad_formed_df = check_data_quality_id(events_df,\"event_id\")"
   ]
  },
  {
   "cell_type": "code",
   "execution_count": 0,
   "metadata": {
    "application/vnd.databricks.v1+cell": {
     "cellMetadata": {
      "byteLimit": 2048000,
      "rowLimit": 10000
     },
     "inputWidgets": {},
     "nuid": "4076fa1c-9598-416a-a109-0e822761dcc2",
     "showTitle": false,
     "tableResultSettingsMap": {},
     "title": ""
    }
   },
   "outputs": [],
   "source": [
    "check_list = [{\"foreign_key_column\":\"team_id\",\n",
    "              \"cross_check_table\": teams_df,\n",
    "              \"cross_check_primary_key_column\": \"team_id\"}]\n",
    "events_df, bad_formed_df = check_data_quality_foreign_keys(events_df, check_list)"
   ]
  },
  {
   "cell_type": "code",
   "execution_count": 0,
   "metadata": {
    "application/vnd.databricks.v1+cell": {
     "cellMetadata": {
      "byteLimit": 2048000,
      "rowLimit": 10000
     },
     "inputWidgets": {},
     "nuid": "e9a00f6a-967f-45e9-98c8-ef243fc0efa6",
     "showTitle": false,
     "tableResultSettingsMap": {},
     "title": ""
    }
   },
   "outputs": [],
   "source": [
    "events_df, bad_formed_df = check_data_quality_timestamps(events_df,[\"event_start\",\"event_end\",\"created_at\"],\"event_id\")"
   ]
  },
  {
   "cell_type": "code",
   "execution_count": 0,
   "metadata": {
    "application/vnd.databricks.v1+cell": {
     "cellMetadata": {
      "byteLimit": 2048000,
      "rowLimit": 10000
     },
     "inputWidgets": {},
     "nuid": "bcc70e08-d7de-4c9f-8238-41eb10ef549f",
     "showTitle": false,
     "tableResultSettingsMap": {},
     "title": ""
    }
   },
   "outputs": [],
   "source": [
    "events_df, bad_formed_df = check_data_quality_events_table(events_df)"
   ]
  },
  {
   "cell_type": "markdown",
   "metadata": {
    "application/vnd.databricks.v1+cell": {
     "cellMetadata": {
      "byteLimit": 2048000,
      "rowLimit": 10000
     },
     "inputWidgets": {},
     "nuid": "437773c1-7a4f-415f-93c5-07df275a4f7c",
     "showTitle": false,
     "tableResultSettingsMap": {},
     "title": ""
    }
   },
   "source": [
    "1 row has wrong start/end dates in this table. At the moment the poor quality rows are identified, different possible solutions could be implemented to manage them; a possibility is  collecting all bad quality rows from every table in one refresh cycle and save them in a table for further analysis."
   ]
  },
  {
   "cell_type": "code",
   "execution_count": 0,
   "metadata": {
    "application/vnd.databricks.v1+cell": {
     "cellMetadata": {
      "byteLimit": 2048000,
      "rowLimit": 10000
     },
     "inputWidgets": {},
     "nuid": "1a80bcd7-8f42-431e-b635-e6e257869d6b",
     "showTitle": false,
     "tableResultSettingsMap": {},
     "title": ""
    }
   },
   "outputs": [],
   "source": [
    "bad_formed_df.display()"
   ]
  },
  {
   "cell_type": "code",
   "execution_count": 0,
   "metadata": {
    "application/vnd.databricks.v1+cell": {
     "cellMetadata": {
      "byteLimit": 2048000,
      "rowLimit": 10000
     },
     "inputWidgets": {},
     "nuid": "ffbea314-316b-4052-9260-c662bdb9794f",
     "showTitle": false,
     "tableResultSettingsMap": {},
     "title": ""
    }
   },
   "outputs": [],
   "source": [
    "events_df = enrich_geography_by_coordinates(events_df, use_api=False)"
   ]
  },
  {
   "cell_type": "code",
   "execution_count": 0,
   "metadata": {
    "application/vnd.databricks.v1+cell": {
     "cellMetadata": {
      "byteLimit": 2048000,
      "rowLimit": 10000
     },
     "inputWidgets": {},
     "nuid": "7ed3f800-0e16-4fa8-a1bc-fef52e43b24c",
     "showTitle": false,
     "tableResultSettingsMap": {},
     "title": ""
    }
   },
   "outputs": [],
   "source": [
    "events_df = create_integer_datekeys(events_df,[\"event_start\",\"event_end\",\"created_at\"])"
   ]
  },
  {
   "cell_type": "code",
   "execution_count": 0,
   "metadata": {
    "application/vnd.databricks.v1+cell": {
     "cellMetadata": {
      "byteLimit": 2048000,
      "rowLimit": 10000
     },
     "inputWidgets": {},
     "nuid": "2621d771-920a-4cc9-a197-0d2edff6dd5a",
     "showTitle": false,
     "tableResultSettingsMap": {},
     "title": ""
    }
   },
   "outputs": [],
   "source": [
    "events_df = add_scd2_columns(events_df, \"created_at\")"
   ]
  },
  {
   "cell_type": "code",
   "execution_count": 0,
   "metadata": {
    "application/vnd.databricks.v1+cell": {
     "cellMetadata": {
      "byteLimit": 2048000,
      "rowLimit": 10000
     },
     "inputWidgets": {},
     "nuid": "5947be0a-6064-4f2d-9966-33e4806b73e3",
     "showTitle": false,
     "tableResultSettingsMap": {},
     "title": ""
    }
   },
   "outputs": [],
   "source": [
    "new_and_updated_df, to_be_deactivated_df = identify_lines_SCD2(events_df,target_table_df,[\"event_id\"])"
   ]
  },
  {
   "cell_type": "code",
   "execution_count": 0,
   "metadata": {
    "application/vnd.databricks.v1+cell": {
     "cellMetadata": {
      "byteLimit": 2048000,
      "rowLimit": 10000
     },
     "inputWidgets": {},
     "nuid": "f47efe0f-9af8-4027-8047-1c5776f07507",
     "showTitle": false,
     "tableResultSettingsMap": {},
     "title": ""
    }
   },
   "outputs": [],
   "source": [
    "deactivate_rows_SCD2(spark,new_and_updated_df, to_be_deactivated_df, target_table_reference, [\"event_id\"])"
   ]
  },
  {
   "cell_type": "code",
   "execution_count": 0,
   "metadata": {
    "application/vnd.databricks.v1+cell": {
     "cellMetadata": {
      "byteLimit": 2048000,
      "rowLimit": 10000
     },
     "inputWidgets": {},
     "nuid": "7f671813-cc40-43a9-b14c-f16d7c312833",
     "showTitle": false,
     "tableResultSettingsMap": {},
     "title": ""
    }
   },
   "outputs": [],
   "source": [
    "append_df_to_table(new_and_updated_df, target_table_reference)"
   ]
  }
 ],
 "metadata": {
  "application/vnd.databricks.v1+notebook": {
   "computePreferences": null,
   "dashboards": [],
   "environmentMetadata": {
    "base_environment": "",
    "environment_version": "2"
   },
   "inputWidgetPreferences": null,
   "language": "python",
   "notebookMetadata": {
    "mostRecentlyExecutedCommandWithImplicitDF": {
     "commandId": 5887870316161454,
     "dataframes": [
      "_sqldf"
     ]
    },
    "pythonIndentUnit": 4
   },
   "notebookName": "events_silver",
   "widgets": {
    "env": {
     "currentValue": "dev",
     "nuid": "11057559-1bf3-43e6-8b79-675a549c3c0e",
     "typedWidgetInfo": {
      "autoCreated": false,
      "defaultValue": "dev",
      "label": null,
      "name": "env",
      "options": {
       "widgetDisplayType": "Text",
       "validationRegex": null
      },
      "parameterDataType": "String"
     },
     "widgetInfo": {
      "widgetType": "text",
      "defaultValue": "dev",
      "label": null,
      "name": "env",
      "options": {
       "widgetType": "text",
       "autoCreated": null,
       "validationRegex": null
      }
     }
    }
   }
  },
  "language_info": {
   "name": "python"
  }
 },
 "nbformat": 4,
 "nbformat_minor": 0
}
