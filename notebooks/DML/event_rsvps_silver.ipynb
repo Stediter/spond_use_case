{
 "cells": [
  {
   "cell_type": "markdown",
   "metadata": {
    "application/vnd.databricks.v1+cell": {
     "cellMetadata": {
      "byteLimit": 2048000,
      "rowLimit": 10000
     },
     "inputWidgets": {},
     "nuid": "cf50b468-eb0b-4f35-9380-41f013ffa72e",
     "showTitle": false,
     "tableResultSettingsMap": {},
     "title": ""
    }
   },
   "source": [
    "# Events rsvps silver\n",
    "\n",
    "Checks to be performed:\n",
    "- Primary key is unique\n",
    "- Foreign key refers to existing team and membership table values\n",
    "- Time information can be correctly converted to Timestamp type\n",
    "- People who responded are part of the team\n",
    "- Answers are in the correct range\n",
    "\n",
    "Enrichment: \n",
    "- Date information extracted from created_at timestamp.\n",
    "\n",
    "Data is to be stored in SCD1 table; the assumption here (simplicistic, but just to give a sample of data writing), is that if a line gets updated in the source database it will come with a new \"responded_at\" timestamp.\n",
    "If that is not the case, the silver notebooks still show two different update methods possible for batch data, I implemented several others (also for streaming), but I do not have the knowlegde on how this data evolves in the source to make further assumptions.\n",
    "\n",
    "N.B. In UC primary and foreign keys can also be enforced directly on the tables, but then the write operation fails or succeed altogether, with this approach it would be possible to identify single rows that dont satisfy the conditions; the natural evolution of this could be a DLT implementation. As mentioned in the data quality module, the next improvement for this would be using DBX programmaticaly."
   ]
  },
  {
   "cell_type": "code",
   "execution_count": 0,
   "metadata": {
    "application/vnd.databricks.v1+cell": {
     "cellMetadata": {
      "byteLimit": 2048000,
      "rowLimit": 10000
     },
     "inputWidgets": {},
     "nuid": "358aa339-a29e-4d09-93db-c1aadc45f686",
     "showTitle": false,
     "tableResultSettingsMap": {},
     "title": ""
    }
   },
   "outputs": [],
   "source": [
    "from modules.data_quality import (check_data_quality_id,\n",
    "                                  check_data_quality_foreign_keys,\n",
    "                                  check_data_quality_timestamps,\n",
    "                                  check_data_quality_events_rsvps_table)\n",
    "from modules.enrichment import create_integer_datekeys\n",
    "from modules.write import (add_scd1_columns,\n",
    "                           identify_new_and_updated_data,\n",
    "                           merge_df_to_table)"
   ]
  },
  {
   "cell_type": "code",
   "execution_count": 0,
   "metadata": {
    "application/vnd.databricks.v1+cell": {
     "cellMetadata": {
      "byteLimit": 2048000,
      "rowLimit": 10000
     },
     "inputWidgets": {},
     "nuid": "345852f1-3899-435b-bf84-eb235a009411",
     "showTitle": false,
     "tableResultSettingsMap": {},
     "title": ""
    }
   },
   "outputs": [],
   "source": [
    "dbutils.widgets.text(\"env\", \"dev\")"
   ]
  },
  {
   "cell_type": "code",
   "execution_count": 0,
   "metadata": {
    "application/vnd.databricks.v1+cell": {
     "cellMetadata": {
      "byteLimit": 2048000,
      "rowLimit": 10000
     },
     "inputWidgets": {},
     "nuid": "09711e44-1dba-4c8b-bcb1-c0bb498ffc4d",
     "showTitle": false,
     "tableResultSettingsMap": {},
     "title": ""
    }
   },
   "outputs": [],
   "source": [
    "environment = dbutils.widgets.get('env')\n",
    "catalog = \"use_case_\" + environment\n",
    "source_schema = \"bronze_layer\"\n",
    "target_schema = \"silver_layer\"\n",
    "\n",
    "source_table = \"event_rsvps\"\n",
    "target_table = \"event_rsvps_refined\"\n",
    "memberships_cross_ref_table = \"memberships_refined\"\n",
    "events_cross_ref_table = \"events_refined\"\n",
    "\n",
    "source_table_reference = catalog + \".\" + source_schema + \".\" +  source_table\n",
    "target_table_reference = catalog + \".\" + target_schema + \".\" + target_table\n",
    "memberships_cross_ref_table_reference = catalog + \".\" + target_schema + \".\" + memberships_cross_ref_table\n",
    "events_cross_ref_table_reference = catalog + \".\" + target_schema + \".\" + events_cross_ref_table\n"
   ]
  },
  {
   "cell_type": "code",
   "execution_count": 0,
   "metadata": {
    "application/vnd.databricks.v1+cell": {
     "cellMetadata": {
      "byteLimit": 2048000,
      "rowLimit": 10000
     },
     "inputWidgets": {},
     "nuid": "1eba68c8-80d8-4d9c-bcb0-14be7ab0a877",
     "showTitle": false,
     "tableResultSettingsMap": {},
     "title": ""
    }
   },
   "outputs": [],
   "source": [
    "# source_catalog = \"hive_metastore\"\n",
    "# source_schema = \"default\"\n",
    "# source_table_name = \"event_rsvps\"\n",
    "\n",
    "# target_catalog = \"hive_metastore\"\n",
    "# target_schema = \"default\"\n",
    "# target_table_name = \"event_rsvps_silver\"\n",
    "# memberships_cross_ref_table_name = \"memberships_silver\"\n",
    "# events_cross_ref_table_name = \"events_silver\"\n",
    "\n",
    "# source_table_reference = source_catalog + \".\" + source_schema + \".\" +  source_table_name\n",
    "# target_table_reference = target_catalog + \".\" + target_schema + \".\" + target_table_name\n",
    "# memberships_cross_ref_table_reference = target_catalog + \".\" + target_schema + \".\" + memberships_cross_ref_table_name\n",
    "# events_cross_ref_table_reference = target_catalog + \".\" + target_schema + \".\" + events_cross_ref_table_name\n"
   ]
  },
  {
   "cell_type": "code",
   "execution_count": 0,
   "metadata": {
    "application/vnd.databricks.v1+cell": {
     "cellMetadata": {
      "byteLimit": 2048000,
      "rowLimit": 10000
     },
     "inputWidgets": {},
     "nuid": "a82262cf-2714-4708-940f-47b25c24bbd5",
     "showTitle": false,
     "tableResultSettingsMap": {},
     "title": ""
    }
   },
   "outputs": [],
   "source": [
    "events_rsvps_df = spark.table(source_table_reference)\n",
    "target_table_df = spark.table(target_table_reference)\n",
    "memberships_df = spark.table(memberships_cross_ref_table_reference).where(\"system_is_active IS True\")\n",
    "events_df = spark.table(events_cross_ref_table_reference).where(\"system_is_active IS True\")"
   ]
  },
  {
   "cell_type": "code",
   "execution_count": 0,
   "metadata": {
    "application/vnd.databricks.v1+cell": {
     "cellMetadata": {
      "byteLimit": 2048000,
      "rowLimit": 10000
     },
     "inputWidgets": {},
     "nuid": "5ed42aff-c604-4386-a0b3-c400725e6915",
     "showTitle": false,
     "tableResultSettingsMap": {},
     "title": ""
    }
   },
   "outputs": [],
   "source": [
    "events_rsvps_df, bad_formed_df = check_data_quality_id(events_rsvps_df,\"event_rsvp_id\")"
   ]
  },
  {
   "cell_type": "code",
   "execution_count": 0,
   "metadata": {
    "application/vnd.databricks.v1+cell": {
     "cellMetadata": {
      "byteLimit": 2048000,
      "rowLimit": 10000
     },
     "inputWidgets": {},
     "nuid": "c0803b89-55d7-496b-9ec5-ad5e822654c8",
     "showTitle": false,
     "tableResultSettingsMap": {},
     "title": ""
    }
   },
   "outputs": [],
   "source": [
    "check_list = [{\"foreign_key_column\":\"event_id\",\n",
    "              \"cross_check_table\": events_df,\n",
    "              \"cross_check_primary_key_column\": \"event_id\"},\n",
    "              {\"foreign_key_column\":\"membership_id\",\n",
    "              \"cross_check_table\": memberships_df,\n",
    "              \"cross_check_primary_key_column\": \"membership_id\"}]\n",
    "events_rsvps_df, bad_formed_df = check_data_quality_foreign_keys(events_rsvps_df, check_list)"
   ]
  },
  {
   "cell_type": "code",
   "execution_count": 0,
   "metadata": {
    "application/vnd.databricks.v1+cell": {
     "cellMetadata": {
      "byteLimit": 2048000,
      "rowLimit": 10000
     },
     "inputWidgets": {},
     "nuid": "e9a00f6a-967f-45e9-98c8-ef243fc0efa6",
     "showTitle": false,
     "tableResultSettingsMap": {},
     "title": ""
    }
   },
   "outputs": [],
   "source": [
    "events_rsvps_df, bad_formed_df = check_data_quality_timestamps(events_rsvps_df,[\"responded_at\"],\"event_rsvp_id\")"
   ]
  },
  {
   "cell_type": "code",
   "execution_count": 0,
   "metadata": {
    "application/vnd.databricks.v1+cell": {
     "cellMetadata": {
      "byteLimit": 2048000,
      "rowLimit": 10000
     },
     "inputWidgets": {},
     "nuid": "bcc70e08-d7de-4c9f-8238-41eb10ef549f",
     "showTitle": false,
     "tableResultSettingsMap": {},
     "title": ""
    }
   },
   "outputs": [],
   "source": [
    "events_rsvps_df, bad_formed_df = check_data_quality_events_rsvps_table(events_rsvps_df,memberships_df,events_df)"
   ]
  },
  {
   "cell_type": "code",
   "execution_count": 0,
   "metadata": {
    "application/vnd.databricks.v1+cell": {
     "cellMetadata": {
      "byteLimit": 2048000,
      "rowLimit": 10000
     },
     "inputWidgets": {},
     "nuid": "db427e42-c7dd-47ab-8f61-35494d88a12c",
     "showTitle": false,
     "tableResultSettingsMap": {},
     "title": ""
    }
   },
   "outputs": [],
   "source": [
    "events_rsvps_df = create_integer_datekeys(events_rsvps_df,[\"responded_at\"])"
   ]
  },
  {
   "cell_type": "code",
   "execution_count": 0,
   "metadata": {
    "application/vnd.databricks.v1+cell": {
     "cellMetadata": {
      "byteLimit": 2048000,
      "rowLimit": 10000
     },
     "inputWidgets": {},
     "nuid": "2621d771-920a-4cc9-a197-0d2edff6dd5a",
     "showTitle": false,
     "tableResultSettingsMap": {},
     "title": ""
    }
   },
   "outputs": [],
   "source": [
    "events_rsvps_df = add_scd1_columns(events_rsvps_df, \"responded_at\")"
   ]
  },
  {
   "cell_type": "code",
   "execution_count": 0,
   "metadata": {
    "application/vnd.databricks.v1+cell": {
     "cellMetadata": {
      "byteLimit": 2048000,
      "rowLimit": 10000
     },
     "inputWidgets": {},
     "nuid": "02765d09-bc53-4412-af2c-2eeb90550a56",
     "showTitle": false,
     "tableResultSettingsMap": {},
     "title": ""
    }
   },
   "outputs": [],
   "source": [
    "events_rsvps_df = identify_new_and_updated_data(events_rsvps_df,target_table_df)"
   ]
  },
  {
   "cell_type": "code",
   "execution_count": 0,
   "metadata": {
    "application/vnd.databricks.v1+cell": {
     "cellMetadata": {
      "byteLimit": 2048000,
      "rowLimit": 10000
     },
     "inputWidgets": {},
     "nuid": "18193a2a-4ef3-481a-8f27-76f92a2a2cf1",
     "showTitle": false,
     "tableResultSettingsMap": {},
     "title": ""
    }
   },
   "outputs": [],
   "source": [
    "update_columns_list = events_rsvps_df.columns\n",
    "update_columns_list.remove(\"system_created_at\")\n",
    "key_columns_list = [\"event_rsvp_id\"]\n",
    "\n",
    "merge_df_to_table(spark, events_rsvps_df, target_table_reference, update_columns_list, key_columns_list)"
   ]
  }
 ],
 "metadata": {
  "application/vnd.databricks.v1+notebook": {
   "computePreferences": null,
   "dashboards": [],
   "environmentMetadata": {
    "base_environment": "",
    "environment_version": "2"
   },
   "inputWidgetPreferences": null,
   "language": "python",
   "notebookMetadata": {
    "mostRecentlyExecutedCommandWithImplicitDF": {
     "commandId": 5740652117208461,
     "dataframes": [
      "_sqldf"
     ]
    },
    "pythonIndentUnit": 4
   },
   "notebookName": "event_rsvps_silver",
   "widgets": {
    "env": {
     "currentValue": "dev",
     "nuid": "f21c5681-574f-4bb9-94a8-79926fe8a9b0",
     "typedWidgetInfo": {
      "autoCreated": false,
      "defaultValue": "dev",
      "label": null,
      "name": "env",
      "options": {
       "widgetDisplayType": "Text",
       "validationRegex": null
      },
      "parameterDataType": "String"
     },
     "widgetInfo": {
      "widgetType": "text",
      "defaultValue": "dev",
      "label": null,
      "name": "env",
      "options": {
       "widgetType": "text",
       "autoCreated": null,
       "validationRegex": null
      }
     }
    }
   }
  },
  "language_info": {
   "name": "python"
  }
 },
 "nbformat": 4,
 "nbformat_minor": 0
}
