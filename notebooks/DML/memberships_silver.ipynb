{
 "cells": [
  {
   "cell_type": "markdown",
   "metadata": {
    "application/vnd.databricks.v1+cell": {
     "cellMetadata": {
      "byteLimit": 2048000,
      "rowLimit": 10000
     },
     "inputWidgets": {},
     "nuid": "cf50b468-eb0b-4f35-9380-41f013ffa72e",
     "showTitle": false,
     "tableResultSettingsMap": {},
     "title": ""
    }
   },
   "source": [
    "# Memberships silver\n",
    "\n",
    "Checks to be performed:\n",
    "- Primary key is unique\n",
    "- Foreign key refers to existing team\n",
    "- Time information can be correctly converted to Timestamp type\n",
    "\n",
    "Enrichment: \n",
    "- Date information extracted from create_at value\n",
    "\n",
    "Data is to be stored in SCD2 table; so that is possible to track coming and going from a team and identify if a subscription is the first or not. For this table the assumption is that, if a membership is not in the source file, it means that person has exited the team.\n",
    "\n",
    "N.B. In UC primary and foreign keys can also be enforced directly on the tables, but then the write operation fails or succeed altogether, with this approach it would be possible to identify single rows that dont satisfy the conditions; the natural evolution of this could be a DLT implementation. As mentioned in the data quality module, the next improvement for this would be using DBX programmaticaly."
   ]
  },
  {
   "cell_type": "code",
   "execution_count": 0,
   "metadata": {
    "application/vnd.databricks.v1+cell": {
     "cellMetadata": {
      "byteLimit": 2048000,
      "rowLimit": 10000
     },
     "inputWidgets": {},
     "nuid": "358aa339-a29e-4d09-93db-c1aadc45f686",
     "showTitle": false,
     "tableResultSettingsMap": {},
     "title": ""
    }
   },
   "outputs": [],
   "source": [
    "\n",
    "from modules.data_quality import (check_data_quality_id,\n",
    "                                  check_data_quality_foreign_keys,\n",
    "                                  check_data_quality_timestamps,\n",
    "                                  check_data_quality_memberships_table)\n",
    "from modules.enrichment import create_integer_datekeys\n",
    "from modules.write import (add_scd2_columns,\n",
    "                           identify_lines_SCD2,\n",
    "                           deactivate_rows_SCD2,\n",
    "                           append_df_to_table)\n"
   ]
  },
  {
   "cell_type": "code",
   "execution_count": 0,
   "metadata": {
    "application/vnd.databricks.v1+cell": {
     "cellMetadata": {
      "byteLimit": 2048000,
      "rowLimit": 10000
     },
     "inputWidgets": {},
     "nuid": "1eba68c8-80d8-4d9c-bcb0-14be7ab0a877",
     "showTitle": false,
     "tableResultSettingsMap": {},
     "title": ""
    }
   },
   "outputs": [],
   "source": [
    "source_catalog = \"hive_metastore\"\n",
    "source_schema = \"default\"\n",
    "source_table_name = \"memberships\"\n",
    "\n",
    "target_catalog = \"hive_metastore\"\n",
    "target_schema = \"default\"\n",
    "target_table_name = \"memberships_silver\"\n",
    "cross_check_table_name = \"teams_silver\"\n",
    "\n",
    "source_table_reference = source_catalog + \".\" + source_schema + \".\" +  source_table_name\n",
    "\n",
    "cross_check_teams_reference = target_catalog + \".\" + target_schema + \".\" + cross_check_table_name\n",
    "target_table_reference = target_catalog + \".\" + target_schema + \".\" + target_table_name"
   ]
  },
  {
   "cell_type": "code",
   "execution_count": 0,
   "metadata": {
    "application/vnd.databricks.v1+cell": {
     "cellMetadata": {
      "byteLimit": 2048000,
      "rowLimit": 10000
     },
     "inputWidgets": {},
     "nuid": "a82262cf-2714-4708-940f-47b25c24bbd5",
     "showTitle": false,
     "tableResultSettingsMap": {},
     "title": ""
    }
   },
   "outputs": [],
   "source": [
    "memberships_df = spark.table(source_table_reference)\n",
    "teams_df = spark.table(cross_check_teams_reference)\n",
    "target_table_df = spark.table(target_table_reference)"
   ]
  },
  {
   "cell_type": "code",
   "execution_count": 0,
   "metadata": {
    "application/vnd.databricks.v1+cell": {
     "cellMetadata": {
      "byteLimit": 2048000,
      "rowLimit": 10000
     },
     "inputWidgets": {},
     "nuid": "5ed42aff-c604-4386-a0b3-c400725e6915",
     "showTitle": false,
     "tableResultSettingsMap": {},
     "title": ""
    }
   },
   "outputs": [],
   "source": [
    "memberships_df, bad_formed_df = check_data_quality_id(memberships_df,\"membership_id\")"
   ]
  },
  {
   "cell_type": "code",
   "execution_count": 0,
   "metadata": {
    "application/vnd.databricks.v1+cell": {
     "cellMetadata": {
      "byteLimit": 2048000,
      "rowLimit": 10000
     },
     "inputWidgets": {},
     "nuid": "4076fa1c-9598-416a-a109-0e822761dcc2",
     "showTitle": false,
     "tableResultSettingsMap": {},
     "title": ""
    }
   },
   "outputs": [],
   "source": [
    "check_list = [{\"foreign_key_column\":\"group_id\",\n",
    "              \"cross_check_table\": teams_df,\n",
    "              \"cross_check_primary_key_column\": \"team_id\"}]\n",
    "memberships_df, bad_formed_df = check_data_quality_foreign_keys(memberships_df, check_list)"
   ]
  },
  {
   "cell_type": "code",
   "execution_count": 0,
   "metadata": {
    "application/vnd.databricks.v1+cell": {
     "cellMetadata": {
      "byteLimit": 2048000,
      "rowLimit": 10000
     },
     "inputWidgets": {},
     "nuid": "e9a00f6a-967f-45e9-98c8-ef243fc0efa6",
     "showTitle": false,
     "tableResultSettingsMap": {},
     "title": ""
    }
   },
   "outputs": [],
   "source": [
    "memberships_df, bad_formed_df = check_data_quality_timestamps(memberships_df,[\"joined_at\"],\"membership_id\")"
   ]
  },
  {
   "cell_type": "code",
   "execution_count": 0,
   "metadata": {
    "application/vnd.databricks.v1+cell": {
     "cellMetadata": {
      "byteLimit": 2048000,
      "rowLimit": 10000
     },
     "inputWidgets": {},
     "nuid": "bcc70e08-d7de-4c9f-8238-41eb10ef549f",
     "showTitle": false,
     "tableResultSettingsMap": {},
     "title": ""
    }
   },
   "outputs": [],
   "source": [
    "memberships_df, bad_formed_df = check_data_quality_memberships_table(memberships_df)"
   ]
  },
  {
   "cell_type": "code",
   "execution_count": 0,
   "metadata": {
    "application/vnd.databricks.v1+cell": {
     "cellMetadata": {
      "byteLimit": 2048000,
      "rowLimit": 10000
     },
     "inputWidgets": {},
     "nuid": "2ad9ef89-ea5a-4892-bc75-5770386e8f02",
     "showTitle": false,
     "tableResultSettingsMap": {},
     "title": ""
    }
   },
   "outputs": [],
   "source": [
    "memberships_df = create_integer_datekeys(memberships_df,[\"joined_at\"])"
   ]
  },
  {
   "cell_type": "code",
   "execution_count": 0,
   "metadata": {
    "application/vnd.databricks.v1+cell": {
     "cellMetadata": {
      "byteLimit": 2048000,
      "rowLimit": 10000
     },
     "inputWidgets": {},
     "nuid": "2621d771-920a-4cc9-a197-0d2edff6dd5a",
     "showTitle": false,
     "tableResultSettingsMap": {},
     "title": ""
    }
   },
   "outputs": [],
   "source": [
    "memberships_df = add_scd2_columns(memberships_df, \"joined_at\")"
   ]
  },
  {
   "cell_type": "code",
   "execution_count": 0,
   "metadata": {
    "application/vnd.databricks.v1+cell": {
     "cellMetadata": {
      "byteLimit": 2048000,
      "rowLimit": 10000
     },
     "inputWidgets": {},
     "nuid": "02765d09-bc53-4412-af2c-2eeb90550a56",
     "showTitle": false,
     "tableResultSettingsMap": {},
     "title": ""
    }
   },
   "outputs": [],
   "source": [
    "new_and_updated_df, to_be_deactivated_df = identify_lines_SCD2(memberships_df,target_table_df,[\"membership_id\"])\n"
   ]
  },
  {
   "cell_type": "code",
   "execution_count": 0,
   "metadata": {
    "application/vnd.databricks.v1+cell": {
     "cellMetadata": {
      "byteLimit": 2048000,
      "rowLimit": 10000
     },
     "inputWidgets": {},
     "nuid": "47ebec10-db5a-4fe1-bd36-cbd1f1f5bd08",
     "showTitle": false,
     "tableResultSettingsMap": {},
     "title": ""
    }
   },
   "outputs": [],
   "source": [
    "deactivate_rows_SCD2(spark,new_and_updated_df, to_be_deactivated_df, target_table_reference, [\"membership_id\"])"
   ]
  },
  {
   "cell_type": "code",
   "execution_count": 0,
   "metadata": {
    "application/vnd.databricks.v1+cell": {
     "cellMetadata": {
      "byteLimit": 2048000,
      "rowLimit": 10000
     },
     "inputWidgets": {},
     "nuid": "90e8e270-47e7-4974-9930-fbb6b76b4ef6",
     "showTitle": false,
     "tableResultSettingsMap": {},
     "title": ""
    }
   },
   "outputs": [],
   "source": [
    "append_df_to_table(new_and_updated_df, target_table_reference)"
   ]
  }
 ],
 "metadata": {
  "application/vnd.databricks.v1+notebook": {
   "computePreferences": null,
   "dashboards": [],
   "environmentMetadata": {
    "base_environment": "",
    "environment_version": "2"
   },
   "inputWidgetPreferences": null,
   "language": "python",
   "notebookMetadata": {
    "mostRecentlyExecutedCommandWithImplicitDF": {
     "commandId": 5887870316161455,
     "dataframes": [
      "_sqldf"
     ]
    },
    "pythonIndentUnit": 4
   },
   "notebookName": "memberships_silver",
   "widgets": {}
  },
  "language_info": {
   "name": "python"
  }
 },
 "nbformat": 4,
 "nbformat_minor": 0
}
